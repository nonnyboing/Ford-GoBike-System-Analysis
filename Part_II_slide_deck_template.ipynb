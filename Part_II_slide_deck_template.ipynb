{
 "cells": [
  {
   "cell_type": "markdown",
   "metadata": {
    "slideshow": {
     "slide_type": "slide"
    }
   },
   "source": [
    "# Part II - Ford GoBike System\n",
    "## by Nonso Ukwuma"
   ]
  },
  {
   "cell_type": "markdown",
   "metadata": {
    "slideshow": {
     "slide_type": "slide"
    }
   },
   "source": [
    "## Investigation Overview\n",
    "\n",
    "This presentation will look at the relationship between the bike share for all trips user segment and the member age, member gender and user type. The relationships between these 3 categorical variables and 1 numeric variable will be used to establish the characteristics of the bike share users who either use the bike share service for all trips or those that do not use the servcie for all trip.\n",
    "\n",
    "\n",
    "\n",
    "## Dataset Overview\n",
    "\n",
    "This data set contains information about individual rides made in a bike sharing system covering the greater San Francisco Bay area over a certain period. The dataset contains over 183k records and has details of each ride such as the gender of the rider, the year of birth, destination, duration of trip, user type etc. Prior to exploration of the data, I created a member_age and duration_hours columns to aid my exploratory data analysis. "
   ]
  },
  {
   "cell_type": "code",
   "execution_count": 2,
   "metadata": {
    "slideshow": {
     "slide_type": "skip"
    }
   },
   "outputs": [],
   "source": [
    "# import all packages and set plots to be embedded inline\n",
    "import numpy as np\n",
    "import pandas as pd\n",
    "import matplotlib.pyplot as plt\n",
    "import seaborn as sb\n",
    "\n",
    "%matplotlib inline\n",
    "\n",
    "# suppress warnings from final output\n",
    "import warnings\n",
    "warnings.simplefilter(\"ignore\")"
   ]
  },
  {
   "cell_type": "code",
   "execution_count": 3,
   "metadata": {
    "slideshow": {
     "slide_type": "skip"
    }
   },
   "outputs": [],
   "source": [
    "# load in the dataset into a pandas dataframe\n",
    "bikeshare = pd.read_csv('bikeshare-tripdata.csv')"
   ]
  },
  {
   "cell_type": "markdown",
   "metadata": {
    "slideshow": {
     "slide_type": "skip"
    }
   },
   "source": [
    "### Preliminary Data Wrangling"
   ]
  },
  {
   "cell_type": "code",
   "execution_count": 4,
   "metadata": {
    "slideshow": {
     "slide_type": "skip"
    }
   },
   "outputs": [],
   "source": [
    "#drop null and empty rows\n",
    "\n",
    "bikeshare.dropna(inplace=True)"
   ]
  },
  {
   "cell_type": "code",
   "execution_count": 5,
   "metadata": {
    "slideshow": {
     "slide_type": "skip"
    }
   },
   "outputs": [],
   "source": [
    "#change the data type for the member_birth_year column to Int\n",
    "\n",
    "bikeshare['member_birth_year'] = bikeshare['member_birth_year'].astype('str')\n",
    "bikeshare['member_birth_year'] = bikeshare['member_birth_year'].str.split('.', expand = True).get(0).astype('int')"
   ]
  },
  {
   "cell_type": "code",
   "execution_count": 6,
   "metadata": {
    "slideshow": {
     "slide_type": "skip"
    }
   },
   "outputs": [],
   "source": [
    "#create a member_age column from the member_birth_year column details and limit rider age to 100 yrs\n",
    "\n",
    "from datetime import date\n",
    "\n",
    "bikeshare['member_age'] = date.today().year - bikeshare['member_birth_year']\n",
    "\n",
    "bikeshare = bikeshare[bikeshare['member_age'] <= 100]"
   ]
  },
  {
   "cell_type": "code",
   "execution_count": 7,
   "metadata": {
    "slideshow": {
     "slide_type": "skip"
    }
   },
   "outputs": [],
   "source": [
    "#Remove 'Other' gender from the member_gender column and retain only records where the gender is male or female.\n",
    "\n",
    "bikeshare = bikeshare[bikeshare['member_gender'] != 'Other']"
   ]
  },
  {
   "cell_type": "code",
   "execution_count": 8,
   "metadata": {
    "slideshow": {
     "slide_type": "skip"
    }
   },
   "outputs": [],
   "source": [
    "#Create a column for duration_hours from the duration_sec column.\n",
    "\n",
    "bikeshare['duration_hours'] = round(bikeshare['duration_sec']/3600, 2)"
   ]
  },
  {
   "cell_type": "code",
   "execution_count": 9,
   "metadata": {
    "slideshow": {
     "slide_type": "skip"
    }
   },
   "outputs": [],
   "source": [
    "#drop columns that will not be required for the analysis.\n",
    "\n",
    "dcols = ['start_station_id', 'end_station_id', 'end_station_latitude', 'start_station_latitude', \n",
    "         'start_station_longitude', 'end_station_longitude', 'start_time', 'end_time']\n",
    "bikeshare.drop(dcols, axis=1, inplace=True)"
   ]
  },
  {
   "cell_type": "code",
   "execution_count": 10,
   "metadata": {
    "slideshow": {
     "slide_type": "skip"
    }
   },
   "outputs": [
    {
     "name": "stdout",
     "output_type": "stream",
     "text": [
      "<class 'pandas.core.frame.DataFrame'>\n",
      "Int64Index: 171231 entries, 0 to 183411\n",
      "Data columns (total 10 columns):\n",
      " #   Column                   Non-Null Count   Dtype  \n",
      "---  ------                   --------------   -----  \n",
      " 0   duration_sec             171231 non-null  int64  \n",
      " 1   start_station_name       171231 non-null  object \n",
      " 2   end_station_name         171231 non-null  object \n",
      " 3   bike_id                  171231 non-null  int64  \n",
      " 4   user_type                171231 non-null  object \n",
      " 5   member_birth_year        171231 non-null  int64  \n",
      " 6   member_gender            171231 non-null  object \n",
      " 7   bike_share_for_all_trip  171231 non-null  object \n",
      " 8   member_age               171231 non-null  int64  \n",
      " 9   duration_hours           171231 non-null  float64\n",
      "dtypes: float64(1), int64(4), object(5)\n",
      "memory usage: 14.4+ MB\n"
     ]
    }
   ],
   "source": [
    "bikeshare.info()"
   ]
  },
  {
   "cell_type": "markdown",
   "metadata": {
    "slideshow": {
     "slide_type": "slide"
    }
   },
   "source": [
    "## Distribution of Bike Share Users along Key Segments.\n",
    "\n",
    "The bike share service users are classified under 3 major categories by \"Gender\", \"User Type\" and \"Bike Share for all trips. The gender categorization shows that majority of the users were males while the user type category showed that there were more subscribers than customers however the category for bike share for all trips shows that majority of the users do not use the service for all trips."
   ]
  },
  {
   "cell_type": "code",
   "execution_count": 13,
   "metadata": {
    "slideshow": {
     "slide_type": "subslide"
    }
   },
   "outputs": [
    {
     "data": {
      "image/png": "[encoded data removed]",
      "text/plain": [
       "<Figure size 1440x360 with 3 Axes>"
      ]
     },
     "metadata": {
      "needs_background": "light"
     },
     "output_type": "display_data"
    }
   ],
   "source": [
    "#create a function to plot categorical univariate charts\n",
    "def cplot(dat, ft):\n",
    "    col = sb.color_palette()[0]\n",
    "    sb.countplot(data=dat, x=dat[ft], color= col, order=dat[ft].value_counts().index);\n",
    "    \n",
    "plt.figure(figsize = [20, 5])\n",
    "\n",
    "plt.subplot(1,3,1)\n",
    "cplot(bikeshare, 'user_type')\n",
    "plt.title('Bike Share User Type')\n",
    "\n",
    "plt.subplot(1,3,2)\n",
    "cplot(bikeshare, 'member_gender')\n",
    "plt.title('Bike Share Member Genders')\n",
    "\n",
    "plt.subplot(1,3,3)\n",
    "cplot(bikeshare, 'bike_share_for_all_trip')\n",
    "plt.title('Bike Share Users For All Trips');"
   ]
  },
  {
   "cell_type": "markdown",
   "metadata": {
    "collapsed": true,
    "slideshow": {
     "slide_type": "slide"
    }
   },
   "source": [
    "## Age Distribution of the bike share users\n",
    "\n",
    "The bike share service users had ages ranging from 21yrs to 90yrs plus. The distribution shows that majority of the users were between the ages of 24yrs and 43yrs."
   ]
  },
  {
   "cell_type": "code",
   "execution_count": 14,
   "metadata": {
    "slideshow": {
     "slide_type": "subslide"
    }
   },
   "outputs": [
    {
     "data": {
      "image/png": "[encoded data removed]",
      "text/plain": [
       "<Figure size 432x288 with 1 Axes>"
      ]
     },
     "metadata": {
      "needs_background": "light"
     },
     "output_type": "display_data"
    }
   ],
   "source": [
    "bikeshare.member_age.hist(bins=20)\n",
    "plt.xlim([10, 100])\n",
    "plt.xlabel('Age (yrs)')\n",
    "plt.ylabel('Count')\n",
    "plt.xticks(np.arange(10, 101, 10))\n",
    "plt.title('Age Distribution of Bike Share Users');"
   ]
  },
  {
   "cell_type": "markdown",
   "metadata": {
    "collapsed": true,
    "slideshow": {
     "slide_type": "slide"
    }
   },
   "source": [
    "## Age Distribution of Different Customer Categories.\n",
    "\n",
    "We further investigate the age distribution of the different customer categories to identify which age bracket is dominant in each category."
   ]
  },
  {
   "cell_type": "code",
   "execution_count": 15,
   "metadata": {
    "slideshow": {
     "slide_type": "subslide"
    }
   },
   "outputs": [
    {
     "data": {
      "image/png": "[encoded data removed]",
      "text/plain": [
       "<Figure size 1440x360 with 3 Axes>"
      ]
     },
     "metadata": {
      "needs_background": "light"
     },
     "output_type": "display_data"
    }
   ],
   "source": [
    "plt.figure(figsize = [20, 5])\n",
    "\n",
    "plt.subplot(1,3,1)\n",
    "sb.boxplot(data=bikeshare, y=bikeshare.user_type, x=bikeshare.member_age);\n",
    "plt.title('Distribution of User Type by Age')\n",
    "plt.xlabel('Age (yrs)');\n",
    "\n",
    "plt.subplot(1,3,2)\n",
    "sb.boxplot(data=bikeshare, x=bikeshare.member_age, y=bikeshare.bike_share_for_all_trip);\n",
    "plt.title('Distribution of User who use Bike Share for all trips by Age')\n",
    "plt.xlabel('Age (yrs)');\n",
    "\n",
    "plt.subplot(1,3,3)\n",
    "sb.boxplot(data=bikeshare[bikeshare['member_age'] <= 80], x='member_age', y='member_gender'); \n",
    "plt.title('Distribution of Gender by Age')\n",
    "plt.xlabel('Age (yrs)');"
   ]
  },
  {
   "cell_type": "markdown",
   "metadata": {
    "slideshow": {
     "slide_type": "slide"
    }
   },
   "source": [
    "## Distribution of Member Age by Gender and Usage Pattern\n",
    "The distribution shows that the majority of the users who do not use the bike share service fall between the age range of 30-41yrs while majority of the users under the age of 30yrs used the bike share service for all trips.\n"
   ]
  },
  {
   "cell_type": "code",
   "execution_count": 16,
   "metadata": {
    "slideshow": {
     "slide_type": "subslide"
    }
   },
   "outputs": [
    {
     "data": {
      "image/png": "[encoded data removed]",
      "text/plain": [
       "<Figure size 432x288 with 1 Axes>"
      ]
     },
     "metadata": {
      "needs_background": "light"
     },
     "output_type": "display_data"
    }
   ],
   "source": [
    "bage = bikeshare[bikeshare['member_age'] <= 60]\n",
    "sb.boxplot(data = bage, x = 'member_gender', y = 'member_age', hue = 'bike_share_for_all_trip')\n",
    "plt.legend(loc = 6, bbox_to_anchor = (1.0, 0.5), title='Bike Share for All Trips'); \n",
    "plt.ylabel('Age (yrs)')\n",
    "plt.title('Distribution of Member Age by Gender and Usage Pattern');"
   ]
  },
  {
   "cell_type": "code",
   "execution_count": 18,
   "metadata": {
    "slideshow": {
     "slide_type": "skip"
    }
   },
   "outputs": [
    {
     "name": "stdout",
     "output_type": "stream",
     "text": [
      "[NbConvertApp] WARNING | Config option `kernel_spec_manager_class` not recognized by `NbConvertApp`.\n",
      "[NbConvertApp] Converting notebook Part_II_slide_deck_template.ipynb to slides\n",
      "[NbConvertApp] Writing 648472 bytes to Part_II_slide_deck_template.slides.html\n",
      "[NbConvertApp] Redirecting reveal.js requests to https://cdnjs.cloudflare.com/ajax/libs/reveal.js/3.5.0\n",
      "Serving your slides at http://127.0.0.1:8000/Part_II_slide_deck_template.slides.html\n",
      "Use Control-C to stop this server\n",
      "^C\n",
      "\n",
      "Interrupted\n"
     ]
    }
   ],
   "source": [
    "!jupyter nbconvert Part_II_slide_deck_template.ipynb --to slides --post serve --no-input --no-prompt"
   ]
  },
  {
   "cell_type": "code",
   "execution_count": null,
   "metadata": {},
   "outputs": [],
   "source": []
  }
 ],
 "metadata": {
  "celltoolbar": "Slideshow",
  "kernelspec": {
   "display_name": "Python 3 (ipykernel)",
   "language": "python",
   "name": "python3"
  },
  "language_info": {
   "codemirror_mode": {
    "name": "ipython",
    "version": 3
   },
   "file_extension": ".py",
   "mimetype": "text/x-python",
   "name": "python",
   "nbconvert_exporter": "python",
   "pygments_lexer": "ipython3",
   "version": "3.9.7"
  }
 },
 "nbformat": 4,
 "nbformat_minor": 2
}
